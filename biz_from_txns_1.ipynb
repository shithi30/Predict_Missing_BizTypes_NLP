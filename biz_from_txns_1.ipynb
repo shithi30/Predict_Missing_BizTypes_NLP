{
 "cells": [
  {
   "cell_type": "code",
   "execution_count": 1,
   "metadata": {
    "colab": {
     "base_uri": "https://localhost:8080/"
    },
    "executionInfo": {
     "elapsed": 3493,
     "status": "ok",
     "timestamp": 1667191751788,
     "user": {
      "displayName": "Shithi Maitra",
      "userId": "01287562705842979191"
     },
     "user_tz": -360
    },
    "id": "I-rNEnGz-Mk8",
    "outputId": "e0a76702-9554-495e-c271-e3d397f0f78a"
   },
   "outputs": [
    {
     "name": "stdout",
     "output_type": "stream",
     "text": [
      "Drive already mounted at /content/drive; to attempt to forcibly remount, call drive.mount(\"/content/drive\", force_remount=True).\n"
     ]
    }
   ],
   "source": [
    "# connect to drive\n",
    "from google.colab import drive\n",
    "drive.mount('/content/drive')"
   ]
  },
  {
   "cell_type": "code",
   "execution_count": 2,
   "metadata": {
    "colab": {
     "base_uri": "https://localhost:8080/"
    },
    "executionInfo": {
     "elapsed": 4,
     "status": "ok",
     "timestamp": 1667191751788,
     "user": {
      "displayName": "Shithi Maitra",
      "userId": "01287562705842979191"
     },
     "user_tz": -360
    },
    "id": "zTyTtJUE_Fkq",
    "outputId": "b6caf104-b214-49a0-eb49-84cd530241e2"
   },
   "outputs": [
    {
     "name": "stdout",
     "output_type": "stream",
     "text": [
      "First line (header) looks like this:\n",
      "\n",
      "\"category\",\"cash_sale_amt\",\"cash_sale_txn\",\"cash_sale_custs\",\"credit_sale_amt\",\"credit_sale_txn\",\"credit_sale_custs\",\"credit_sale_ret_amt\",\"credit_sale_ret_txn\",\"credit_sale_ret_custs\",\"new_cust_added\",\"cust_txn_days\",\"cash_purchase_amt\",\"cash_purchase_txn\",\"cash_purchase_supps\",\"credit_purchase_amt\",\"credit_purchase_txn\",\"credit_purchase_supps\",\"credit_purchase_ret_amt\",\"credit_purchase_ret_txn\",\"credit_purchase_ret_supps\",\"new_supp_added\",\"supp_txn_days\",\"malik_dilo_amt\",\"malik_dilo_txn\",\"malik_nilo_amt\",\"malik_nilo_txn\",\"malik_txn_days\",\"cash_adj_amt\",\"cash_adj_txn\",\"expense_amt\",\"expense_txn\",\"dokan_txn_days\",\"sale_ticket\",\"cash_sale_ticket\",\"credit_sale_ticket\",\"purchase_ticket\",\"cash_purchase_ticket\",\"ops_ticket\",\"sms_used\",\"tagada_sms_used\",\"link_sms_used\",\"sms_used_days\",\"all_cust_added\",\"all_supp_added\",\"versions_exp\",\"version_now\",\"days_with_tk\",\"dist_from_dhaka\",\"sec_spent\",\"mobile_no\",\"shop_name\"\n",
      "\n",
      "Each data point looks like this:\n",
      "\n",
      "GROCERY,0,0,0,0,0,0,0,0,0,0,0,0,0,0,0,0,0,0,0,0,0,0,0,0,0,0,0,0,0,0,0,0,0,0,0,0,0,0,0,0,0,0,80,0,3,104,502,173716.39076361,150.0,\"01881127525\",মেসার্স মদিনা ট্রেডার্স\n",
      "\n"
     ]
    }
   ],
   "source": [
    "# open file from drive\n",
    "with open(\"/content/drive/MyDrive/Colab Notebooks/biz_from_txns_12.csv\", 'r') as csvfile:\n",
    "    print(f\"First line (header) looks like this:\\n\\n{csvfile.readline()}\")\n",
    "    print(f\"Each data point looks like this:\\n\\n{csvfile.readline()}\")"
   ]
  },
  {
   "cell_type": "code",
   "execution_count": 3,
   "metadata": {
    "executionInfo": {
     "elapsed": 5486,
     "status": "ok",
     "timestamp": 1667191757272,
     "user": {
      "displayName": "Shithi Maitra",
      "userId": "01287562705842979191"
     },
     "user_tz": -360
    },
    "id": "eHVmyis_Q3gI"
   },
   "outputs": [],
   "source": [
    "# import necessary libraries\n",
    "import os\n",
    "import tensorflow as tf\n",
    "from tensorflow import keras\n",
    "import pandas as pd\n",
    "import numpy as np\n",
    "from matplotlib import pyplot as plt\n",
    "from tensorflow import initializers"
   ]
  },
  {
   "cell_type": "code",
   "execution_count": 4,
   "metadata": {
    "colab": {
     "base_uri": "https://localhost:8080/"
    },
    "executionInfo": {
     "elapsed": 651,
     "status": "ok",
     "timestamp": 1667191757921,
     "user": {
      "displayName": "Shithi Maitra",
      "userId": "01287562705842979191"
     },
     "user_tz": -360
    },
    "id": "aaUq0QQqHxaR",
    "outputId": "ae28ee87-beb5-4017-a7d0-b52dbf2abcb1"
   },
   "outputs": [
    {
     "name": "stdout",
     "output_type": "stream",
     "text": [
      "   category  cash_sale_amt  cash_sale_txn  cash_sale_custs  credit_sale_amt  \\\n",
      "0   GROCERY            0.0              0                0              0.0   \n",
      "1  PHARMACY            0.0              0                0          34273.0   \n",
      "2   GROCERY            0.0              0                0          42046.0   \n",
      "3   GROCERY         2000.0              1                1           7529.0   \n",
      "4   GROCERY            0.0              0                0          21680.0   \n",
      "\n",
      "   credit_sale_txn  credit_sale_custs  credit_sale_ret_amt  \\\n",
      "0                0                  0                  0.0   \n",
      "1              138                 59              23733.0   \n",
      "2              597                 60              43862.0   \n",
      "3               73                 22               2523.0   \n",
      "4              293                 39              14364.0   \n",
      "\n",
      "   credit_sale_ret_txn  credit_sale_ret_custs  ...  sms_used_days  \\\n",
      "0                    0                      0  ...              0   \n",
      "1                   32                     27  ...             12   \n",
      "2                   54                     37  ...             10   \n",
      "3                    8                      7  ...              5   \n",
      "4                   74                     29  ...             14   \n",
      "\n",
      "   all_cust_added  all_supp_added  versions_exp  version_now  days_with_tk  \\\n",
      "0              80               0             3          104           502   \n",
      "1             210               0             1          116            21   \n",
      "2             200               1             8          116           501   \n",
      "3              38               0             1          104            18   \n",
      "4             148               0            12          104           770   \n",
      "\n",
      "   dist_from_dhaka  sec_spent   mobile_no  \\\n",
      "0    173716.390764      150.0  1881127525   \n",
      "1    141838.624861    36328.0  1831458027   \n",
      "2     60155.426726    33552.0  1872721747   \n",
      "3    241493.922948    17526.0  1820363177   \n",
      "4    299304.150316    12872.0  1717820600   \n",
      "\n",
      "                               shop_name  \n",
      "0                মেসার্স মদিনা ট্রেডার্স  \n",
      "1                            শরীফ ফামেসী  \n",
      "2                         নিহাল কফি হাউজ  \n",
      "3  স্মার্ট র্টেইলারস টি হাউস মোহাঃ সোহেল  \n",
      "4                 ওবায়দুল ভ্যরাইটিজ স্টর  \n",
      "\n",
      "[5 rows x 52 columns]\n"
     ]
    }
   ],
   "source": [
    "# view data\n",
    "df=pd.read_csv('/content/drive/MyDrive/Colab Notebooks/biz_from_txns_12.csv')\n",
    "print(df.head(5))"
   ]
  },
  {
   "cell_type": "code",
   "execution_count": 5,
   "metadata": {
    "colab": {
     "base_uri": "https://localhost:8080/"
    },
    "executionInfo": {
     "elapsed": 6,
     "status": "ok",
     "timestamp": 1667191757922,
     "user": {
      "displayName": "Shithi Maitra",
      "userId": "01287562705842979191"
     },
     "user_tz": -360
    },
    "id": "kBKdPGhwdDOZ",
    "outputId": "0c4d94d1-a93f-428a-fbe0-f3c2b90eafcb"
   },
   "outputs": [
    {
     "name": "stdout",
     "output_type": "stream",
     "text": [
      "   category  cash_sale_amt  cash_sale_txn  cash_sale_custs  credit_sale_amt  \\\n",
      "0         0            0.0              0                0              0.0   \n",
      "1         1            0.0              0                0          34273.0   \n",
      "2         0            0.0              0                0          42046.0   \n",
      "3         0         2000.0              1                1           7529.0   \n",
      "4         0            0.0              0                0          21680.0   \n",
      "\n",
      "   credit_sale_txn  credit_sale_custs  credit_sale_ret_amt  \\\n",
      "0                0                  0                  0.0   \n",
      "1              138                 59              23733.0   \n",
      "2              597                 60              43862.0   \n",
      "3               73                 22               2523.0   \n",
      "4              293                 39              14364.0   \n",
      "\n",
      "   credit_sale_ret_txn  credit_sale_ret_custs  ...  sms_used_days  \\\n",
      "0                    0                      0  ...              0   \n",
      "1                   32                     27  ...             12   \n",
      "2                   54                     37  ...             10   \n",
      "3                    8                      7  ...              5   \n",
      "4                   74                     29  ...             14   \n",
      "\n",
      "   all_cust_added  all_supp_added  versions_exp  version_now  days_with_tk  \\\n",
      "0              80               0             3          104           502   \n",
      "1             210               0             1          116            21   \n",
      "2             200               1             8          116           501   \n",
      "3              38               0             1          104            18   \n",
      "4             148               0            12          104           770   \n",
      "\n",
      "   dist_from_dhaka  sec_spent   mobile_no  \\\n",
      "0    173716.390764      150.0  1881127525   \n",
      "1    141838.624861    36328.0  1831458027   \n",
      "2     60155.426726    33552.0  1872721747   \n",
      "3    241493.922948    17526.0  1820363177   \n",
      "4    299304.150316    12872.0  1717820600   \n",
      "\n",
      "                               shop_name  \n",
      "0                মেসার্স মদিনা ট্রেডার্স  \n",
      "1                            শরীফ ফামেসী  \n",
      "2                         নিহাল কফি হাউজ  \n",
      "3  স্মার্ট র্টেইলারস টি হাউস মোহাঃ সোহেল  \n",
      "4                 ওবায়দুল ভ্যরাইটিজ স্টর  \n",
      "\n",
      "[5 rows x 52 columns]\n"
     ]
    }
   ],
   "source": [
    "# categories into numerics\n",
    "categories=list(pd.unique(df['category']))\n",
    "df['category']=[categories.index(item) for item in list(df['category'])]\n",
    "print(df.head(5))"
   ]
  },
  {
   "cell_type": "code",
   "execution_count": 6,
   "metadata": {
    "colab": {
     "base_uri": "https://localhost:8080/"
    },
    "executionInfo": {
     "elapsed": 436,
     "status": "ok",
     "timestamp": 1667191758356,
     "user": {
      "displayName": "Shithi Maitra",
      "userId": "01287562705842979191"
     },
     "user_tz": -360
    },
    "id": "fi1xXS1vvfHD",
    "outputId": "fe2e716e-9bac-408f-c7a0-1de7612c8414"
   },
   "outputs": [
    {
     "name": "stdout",
     "output_type": "stream",
     "text": [
      "nan found in cols:\n",
      "cash_sale_amt                False\n",
      "cash_sale_txn                False\n",
      "cash_sale_custs              False\n",
      "credit_sale_amt              False\n",
      "credit_sale_txn              False\n",
      "credit_sale_custs            False\n",
      "credit_sale_ret_amt          False\n",
      "credit_sale_ret_txn          False\n",
      "credit_sale_ret_custs        False\n",
      "new_cust_added               False\n",
      "cust_txn_days                False\n",
      "cash_purchase_amt            False\n",
      "cash_purchase_txn            False\n",
      "cash_purchase_supps          False\n",
      "credit_purchase_amt          False\n",
      "credit_purchase_txn          False\n",
      "credit_purchase_supps        False\n",
      "credit_purchase_ret_amt      False\n",
      "credit_purchase_ret_txn      False\n",
      "credit_purchase_ret_supps    False\n",
      "new_supp_added               False\n",
      "supp_txn_days                False\n",
      "malik_dilo_amt               False\n",
      "malik_dilo_txn               False\n",
      "malik_nilo_amt               False\n",
      "malik_nilo_txn               False\n",
      "malik_txn_days               False\n",
      "cash_adj_amt                 False\n",
      "cash_adj_txn                 False\n",
      "expense_amt                  False\n",
      "expense_txn                  False\n",
      "dokan_txn_days               False\n",
      "sale_ticket                  False\n",
      "cash_sale_ticket             False\n",
      "credit_sale_ticket           False\n",
      "purchase_ticket              False\n",
      "cash_purchase_ticket         False\n",
      "ops_ticket                   False\n",
      "sms_used                     False\n",
      "tagada_sms_used              False\n",
      "link_sms_used                False\n",
      "sms_used_days                False\n",
      "all_cust_added               False\n",
      "all_supp_added               False\n",
      "versions_exp                 False\n",
      "version_now                  False\n",
      "days_with_tk                 False\n",
      "dist_from_dhaka              False\n",
      "sec_spent                    False\n",
      "dtype: bool\n",
      "\n",
      "nan found:\n",
      "0\n",
      "\n",
      "inspection:\n",
      "121\n"
     ]
    }
   ],
   "source": [
    "# full data\n",
    "x=df.iloc[:, 1:50]\n",
    "y=df.iloc[:, 0].values\n",
    "\n",
    "# check for nan in full data \n",
    "# print(np.isnan(x).any())\n",
    "# normalize\n",
    "normalized_x=(x-x.min())/(x.max()-x.min())\n",
    "# check for nan in normalized data\n",
    "print(\"nan found in cols:\")\n",
    "print(np.isnan(normalized_x).any())\n",
    "# count of nan in normalized data\n",
    "print()\n",
    "print(\"nan found:\")\n",
    "print(normalized_x.isnull().sum().sum())\n",
    "# inspect column with nan \n",
    "print() \n",
    "print(\"inspection:\")\n",
    "print(x['new_supp_added'].max())\n",
    "\n",
    "# replace nan with 0, extract values\n",
    "normalized_x=normalized_x.fillna(0).values\n",
    "\n",
    "# training data\n",
    "x_train=normalized_x[0:38000, :]\n",
    "y_train=y[0:38000]\n",
    "\n",
    "# validation data\n",
    "x_test=normalized_x[38000:, :]\n",
    "y_test=y[38000:]"
   ]
  },
  {
   "cell_type": "code",
   "execution_count": 7,
   "metadata": {
    "executionInfo": {
     "elapsed": 7,
     "status": "ok",
     "timestamp": 1667191758357,
     "user": {
      "displayName": "Shithi Maitra",
      "userId": "01287562705842979191"
     },
     "user_tz": -360
    },
    "id": "UhuZbpPyN-oI"
   },
   "outputs": [],
   "source": [
    "def build_model():\n",
    "    \n",
    "    # define model\n",
    "    model=tf.keras.models.Sequential([ \n",
    "        # use tf.keras.layers.Dropout(0.1) for regularization\n",
    "        \n",
    "        tf.keras.layers.Dense(47, activation=tf.nn.relu, kernel_initializer=tf.keras.initializers.GlorotUniform(), input_dim=49),\n",
    "        tf.keras.layers.Dense(47, activation=tf.nn.relu, kernel_initializer=tf.keras.initializers.GlorotUniform()),\n",
    "        tf.keras.layers.Dense(45, activation=tf.nn.relu, kernel_initializer=tf.keras.initializers.GlorotUniform()),\n",
    "        tf.keras.layers.Dense(35, activation=tf.nn.relu, kernel_initializer=tf.keras.initializers.GlorotUniform()),\n",
    "        tf.keras.layers.Dense(20, activation=tf.nn.relu, kernel_initializer=tf.keras.initializers.GlorotUniform()),\n",
    "        tf.keras.layers.Dense(7, activation=tf.nn.softmax)\n",
    "    ]) \n",
    "\n",
    "    # compile model\n",
    "    model.compile(optimizer=tf.keras.optimizers.Adam(learning_rate=0.01), \n",
    "                  loss='sparse_categorical_crossentropy', \n",
    "                  metrics=['accuracy']) \n",
    "\n",
    "    return model"
   ]
  },
  {
   "cell_type": "code",
   "execution_count": 8,
   "metadata": {
    "colab": {
     "base_uri": "https://localhost:8080/"
    },
    "executionInfo": {
     "elapsed": 203545,
     "status": "ok",
     "timestamp": 1667191961897,
     "user": {
      "displayName": "Shithi Maitra",
      "userId": "01287562705842979191"
     },
     "user_tz": -360
    },
    "id": "qDmgDcvoRVTo",
    "outputId": "14aa4330-26a4-467c-f443-107c450ffa23"
   },
   "outputs": [
    {
     "name": "stdout",
     "output_type": "stream",
     "text": [
      "Epoch 1/50\n",
      "1188/1188 [==============================] - 9s 7ms/step - loss: 1.4979 - accuracy: 0.4037 - val_loss: 1.4200 - val_accuracy: 0.4502\n",
      "Epoch 2/50\n",
      "1188/1188 [==============================] - 7s 6ms/step - loss: 1.4317 - accuracy: 0.4393 - val_loss: 1.4051 - val_accuracy: 0.4573\n",
      "Epoch 3/50\n",
      "1188/1188 [==============================] - 3s 3ms/step - loss: 1.4154 - accuracy: 0.4507 - val_loss: 1.4159 - val_accuracy: 0.4350\n",
      "Epoch 4/50\n",
      "1188/1188 [==============================] - 3s 3ms/step - loss: 1.4010 - accuracy: 0.4572 - val_loss: 1.4223 - val_accuracy: 0.4323\n",
      "Epoch 5/50\n",
      "1188/1188 [==============================] - 3s 2ms/step - loss: 1.3962 - accuracy: 0.4618 - val_loss: 1.3879 - val_accuracy: 0.4659\n",
      "Epoch 6/50\n",
      "1188/1188 [==============================] - 3s 2ms/step - loss: 1.3818 - accuracy: 0.4683 - val_loss: 1.4160 - val_accuracy: 0.4432\n",
      "Epoch 7/50\n",
      "1188/1188 [==============================] - 3s 3ms/step - loss: 1.3672 - accuracy: 0.4787 - val_loss: 1.3880 - val_accuracy: 0.4627\n",
      "Epoch 8/50\n",
      "1188/1188 [==============================] - 3s 2ms/step - loss: 1.3612 - accuracy: 0.4836 - val_loss: 1.3533 - val_accuracy: 0.4937\n",
      "Epoch 9/50\n",
      "1188/1188 [==============================] - 3s 2ms/step - loss: 1.3497 - accuracy: 0.4913 - val_loss: 1.3530 - val_accuracy: 0.4813\n",
      "Epoch 10/50\n",
      "1188/1188 [==============================] - 3s 2ms/step - loss: 1.3493 - accuracy: 0.4911 - val_loss: 1.3362 - val_accuracy: 0.4963\n",
      "Epoch 11/50\n",
      "1188/1188 [==============================] - 3s 3ms/step - loss: 1.3473 - accuracy: 0.4920 - val_loss: 1.3326 - val_accuracy: 0.4986\n",
      "Epoch 12/50\n",
      "1188/1188 [==============================] - 3s 3ms/step - loss: 1.3450 - accuracy: 0.4955 - val_loss: 1.3640 - val_accuracy: 0.4821\n",
      "Epoch 13/50\n",
      "1188/1188 [==============================] - 3s 3ms/step - loss: 1.3375 - accuracy: 0.4992 - val_loss: 1.3477 - val_accuracy: 0.4916\n",
      "Epoch 14/50\n",
      "1188/1188 [==============================] - 3s 3ms/step - loss: 1.3360 - accuracy: 0.4983 - val_loss: 1.3314 - val_accuracy: 0.4918\n",
      "Epoch 15/50\n",
      "1188/1188 [==============================] - 3s 3ms/step - loss: 1.3337 - accuracy: 0.5003 - val_loss: 1.3525 - val_accuracy: 0.4918\n",
      "Epoch 16/50\n",
      "1188/1188 [==============================] - 3s 3ms/step - loss: 1.3327 - accuracy: 0.5031 - val_loss: 1.3148 - val_accuracy: 0.5108\n",
      "Epoch 17/50\n",
      "1188/1188 [==============================] - 3s 3ms/step - loss: 1.3278 - accuracy: 0.5034 - val_loss: 1.3205 - val_accuracy: 0.5046\n",
      "Epoch 18/50\n",
      "1188/1188 [==============================] - 3s 3ms/step - loss: 1.3279 - accuracy: 0.5023 - val_loss: 1.3053 - val_accuracy: 0.5136\n",
      "Epoch 19/50\n",
      "1188/1188 [==============================] - 3s 3ms/step - loss: 1.3324 - accuracy: 0.5019 - val_loss: 1.3233 - val_accuracy: 0.5014\n",
      "Epoch 20/50\n",
      "1188/1188 [==============================] - 3s 3ms/step - loss: 1.3267 - accuracy: 0.5053 - val_loss: 1.3187 - val_accuracy: 0.5016\n",
      "Epoch 21/50\n",
      "1188/1188 [==============================] - 3s 3ms/step - loss: 1.3217 - accuracy: 0.5071 - val_loss: 1.3142 - val_accuracy: 0.5112\n",
      "Epoch 22/50\n",
      "1188/1188 [==============================] - 3s 3ms/step - loss: 1.3228 - accuracy: 0.5053 - val_loss: 1.3137 - val_accuracy: 0.5048\n",
      "Epoch 23/50\n",
      "1188/1188 [==============================] - 3s 2ms/step - loss: 1.3250 - accuracy: 0.5045 - val_loss: 1.3510 - val_accuracy: 0.4723\n",
      "Epoch 24/50\n",
      "1188/1188 [==============================] - 3s 2ms/step - loss: 1.3239 - accuracy: 0.5052 - val_loss: 1.3166 - val_accuracy: 0.5091\n",
      "Epoch 25/50\n",
      "1188/1188 [==============================] - 3s 2ms/step - loss: 1.3281 - accuracy: 0.5022 - val_loss: 1.3092 - val_accuracy: 0.5110\n",
      "Epoch 26/50\n",
      "1188/1188 [==============================] - 3s 3ms/step - loss: 1.3191 - accuracy: 0.5080 - val_loss: 1.3182 - val_accuracy: 0.5070\n",
      "Epoch 27/50\n",
      "1188/1188 [==============================] - 3s 2ms/step - loss: 1.3204 - accuracy: 0.5076 - val_loss: 1.3565 - val_accuracy: 0.4868\n",
      "Epoch 28/50\n",
      "1188/1188 [==============================] - 3s 3ms/step - loss: 1.3187 - accuracy: 0.5118 - val_loss: 1.3031 - val_accuracy: 0.5130\n",
      "Epoch 29/50\n",
      "1188/1188 [==============================] - 4s 3ms/step - loss: 1.3199 - accuracy: 0.5068 - val_loss: 1.3019 - val_accuracy: 0.5181\n",
      "Epoch 30/50\n",
      "1188/1188 [==============================] - 5s 4ms/step - loss: 1.3167 - accuracy: 0.5109 - val_loss: 1.2982 - val_accuracy: 0.5183\n",
      "Epoch 31/50\n",
      "1188/1188 [==============================] - 3s 2ms/step - loss: 1.3208 - accuracy: 0.5083 - val_loss: 1.3183 - val_accuracy: 0.5185\n",
      "Epoch 32/50\n",
      "1188/1188 [==============================] - 3s 3ms/step - loss: 1.3169 - accuracy: 0.5100 - val_loss: 1.3111 - val_accuracy: 0.5104\n",
      "Epoch 33/50\n",
      "1188/1188 [==============================] - 5s 4ms/step - loss: 1.3142 - accuracy: 0.5110 - val_loss: 1.3243 - val_accuracy: 0.5040\n",
      "Epoch 34/50\n",
      "1188/1188 [==============================] - 3s 3ms/step - loss: 1.3141 - accuracy: 0.5130 - val_loss: 1.3038 - val_accuracy: 0.5226\n",
      "Epoch 35/50\n",
      "1188/1188 [==============================] - 3s 3ms/step - loss: 1.3184 - accuracy: 0.5109 - val_loss: 1.3164 - val_accuracy: 0.5052\n",
      "Epoch 36/50\n",
      "1188/1188 [==============================] - 3s 2ms/step - loss: 1.3133 - accuracy: 0.5137 - val_loss: 1.3134 - val_accuracy: 0.5177\n",
      "Epoch 37/50\n",
      "1188/1188 [==============================] - 3s 3ms/step - loss: 1.3198 - accuracy: 0.5081 - val_loss: 1.3301 - val_accuracy: 0.5003\n",
      "Epoch 38/50\n",
      "1188/1188 [==============================] - 3s 3ms/step - loss: 1.3166 - accuracy: 0.5119 - val_loss: 1.3396 - val_accuracy: 0.4977\n",
      "Epoch 39/50\n",
      "1188/1188 [==============================] - 3s 3ms/step - loss: 1.3224 - accuracy: 0.5099 - val_loss: 1.3120 - val_accuracy: 0.5187\n",
      "Epoch 40/50\n",
      "1188/1188 [==============================] - 5s 4ms/step - loss: 1.3229 - accuracy: 0.5089 - val_loss: 1.3198 - val_accuracy: 0.5065\n",
      "Epoch 41/50\n",
      "1188/1188 [==============================] - 3s 2ms/step - loss: 1.3207 - accuracy: 0.5064 - val_loss: 1.3149 - val_accuracy: 0.5221\n",
      "Epoch 42/50\n",
      "1188/1188 [==============================] - 3s 3ms/step - loss: 1.3175 - accuracy: 0.5103 - val_loss: 1.3063 - val_accuracy: 0.5161\n",
      "Epoch 43/50\n",
      "1188/1188 [==============================] - 3s 3ms/step - loss: 1.3137 - accuracy: 0.5144 - val_loss: 1.3108 - val_accuracy: 0.5115\n",
      "Epoch 44/50\n",
      "1188/1188 [==============================] - 3s 3ms/step - loss: 1.3135 - accuracy: 0.5128 - val_loss: 1.3215 - val_accuracy: 0.5040\n",
      "Epoch 45/50\n",
      "1188/1188 [==============================] - 3s 3ms/step - loss: 1.3123 - accuracy: 0.5152 - val_loss: 1.3072 - val_accuracy: 0.5202\n",
      "Epoch 46/50\n",
      "1188/1188 [==============================] - 3s 2ms/step - loss: 1.3129 - accuracy: 0.5130 - val_loss: 1.3506 - val_accuracy: 0.5110\n",
      "Epoch 47/50\n",
      "1188/1188 [==============================] - 3s 3ms/step - loss: 1.3086 - accuracy: 0.5152 - val_loss: 1.2961 - val_accuracy: 0.5217\n",
      "Epoch 48/50\n",
      "1188/1188 [==============================] - 3s 3ms/step - loss: 1.3109 - accuracy: 0.5148 - val_loss: 1.3077 - val_accuracy: 0.5179\n",
      "Epoch 49/50\n",
      "1188/1188 [==============================] - 3s 2ms/step - loss: 1.3091 - accuracy: 0.5171 - val_loss: 1.3231 - val_accuracy: 0.5074\n",
      "Epoch 50/50\n",
      "1188/1188 [==============================] - 3s 3ms/step - loss: 1.3040 - accuracy: 0.5197 - val_loss: 1.2956 - val_accuracy: 0.5249\n"
     ]
    }
   ],
   "source": [
    "# fit model and save training history\n",
    "model=build_model()\n",
    "history=model.fit(x_train, y_train, epochs=50, validation_data=(x_test, y_test))"
   ]
  },
  {
   "cell_type": "code",
   "execution_count": 9,
   "metadata": {
    "colab": {
     "base_uri": "https://localhost:8080/",
     "height": 541
    },
    "executionInfo": {
     "elapsed": 658,
     "status": "ok",
     "timestamp": 1667191962530,
     "user": {
      "displayName": "Shithi Maitra",
      "userId": "01287562705842979191"
     },
     "user_tz": -360
    },
    "id": "IPw1mIPwv030",
    "outputId": "309bf233-2f32-41d3-8f14-08c8145ca8a5"
   },
   "outputs": [
    {
     "data": {
      "image/png": "[encoded data removed]",
      "text/plain": [
       "<Figure size 432x288 with 1 Axes>"
      ]
     },
     "metadata": {
      "needs_background": "light"
     },
     "output_type": "display_data"
    },
    {
     "data": {
      "image/png": "[encoded data removed]",
      "text/plain": [
       "<Figure size 432x288 with 1 Axes>"
      ]
     },
     "metadata": {
      "needs_background": "light"
     },
     "output_type": "display_data"
    }
   ],
   "source": [
    "# plot learning curves\n",
    "def plot_graphs(history, metric):\n",
    "    plt.plot(history.history[metric])\n",
    "    plt.plot(history.history[f'val_{metric}'])\n",
    "    plt.xlabel(\"Epochs\")\n",
    "    plt.ylabel(metric)\n",
    "    plt.legend([metric, f'val_{metric}'])\n",
    "    plt.show()\n",
    "    \n",
    "plot_graphs(history, \"accuracy\")\n",
    "plot_graphs(history, \"loss\")"
   ]
  },
  {
   "cell_type": "code",
   "execution_count": 10,
   "metadata": {
    "colab": {
     "base_uri": "https://localhost:8080/"
    },
    "executionInfo": {
     "elapsed": 12,
     "status": "ok",
     "timestamp": 1667191962531,
     "user": {
      "displayName": "Shithi Maitra",
      "userId": "01287562705842979191"
     },
     "user_tz": -360
    },
    "id": "8dEj3ugelXd1",
    "outputId": "b59b7105-01a3-48d3-fade-9a6e037b7de2"
   },
   "outputs": [
    {
     "name": "stdout",
     "output_type": "stream",
     "text": [
      "4/4 [==============================] - 0s 3ms/step\n",
      "সামিয়া এন্ড সাদিয়া ফ্যাশন: PHARMACY\n",
      "প্রোঃহাফিজুর মায়ের দোয়া স্টোর সৈয়দ পুর বাজার: GROCERY\n",
      "জোসনা কনফেকশনারী এন্ড ষ্টোর: MFS_MOBILE_RECHARGE\n",
      "বরুনা ড্রাগ হাউজ: PHARMACY\n",
      "নাইম ভ্যারাইটি ষ্টোর: GROCERY\n",
      "আল-আমিন ভ্যারাইটিজ ষ্টোর এন্ড টেলিকম: PHARMACY\n",
      "মেসার্স আজমীর স্টোর প্রোপাইটর মাসুদ: MFS_MOBILE_RECHARGE\n",
      "জয়নাল স্টোর: GROCERY\n",
      "Bashar account: GROCERY\n",
      "মাসুম টেলিকম: MFS_MOBILE_RECHARGE\n",
      "এরশাদুল ইসলাম: GROCERY\n",
      "Shakil Store: GROCERY\n",
      "SHAZ PHARMA: GROCERY\n",
      "আতিশা আন্তি টেলিকম এন্ড জেনারেল স্টোর: MFS_MOBILE_RECHARGE\n",
      "বেলাল মেডিকেল হল: PHARMACY\n",
      "মা গার্মেন্টস এন্ড বস্তালয় ও সু ষ্টোর: GROCERY\n",
      "অপি কম্পিউটার এন্ড ডিস সেন্টার: GROCERY\n",
      "অনয় এন্টারপ্রাইজ: MFS_MOBILE_RECHARGE\n",
      "বিসমিল্লাহ ফার্মেসী: MFS_MOBILE_RECHARGE\n",
      "মাহাবুব: GROCERY\n",
      "খান এন্টারপ্রাইজ: PHARMACY\n",
      "ডিজিটাল এন্টারপ্রাইজ: PHARMACY\n",
      "M/s Jannat Pharmacy: PHARMACY\n",
      "MAHMOOD NAWAZ BABU: MFS_MOBILE_RECHARGE\n",
      "Minhaj Telecom: GROCERY\n",
      "আনজুম মেডিফার্মা: MFS_MOBILE_RECHARGE\n",
      "Chittagong Home Tex: GROCERY\n",
      "মহেশখালী ঝাল বিতরণ: GROCERY\n",
      "আফিয়া কম্পিউটার: GROCERY\n",
      "মায়ের দোয়া ডিপাটমের্ন্টাল স্টোর: GROCERY\n",
      "Niyamotullah poultry house: PHARMACY\n",
      "হাক্কানী আঞ্জুমান দাওয়াখানা: GROCERY\n",
      "আশা টেলিকম: MFS_MOBILE_RECHARGE\n",
      "মায়ের দোয়া টেলিকম: MFS_MOBILE_RECHARGE\n",
      "ফরাজী এন্টারপ্রাইজ: GROCERY\n",
      "Tanim enterprise: GROCERY\n",
      "Iqra Computer: ELECTRONICS\n",
      "Ihtisham telecom: MFS_MOBILE_RECHARGE\n",
      "মাসুদ স্টোর/নারান দিয়া ভেন ইষ্টান: GROCERY\n",
      "সততা ব্যবসায়ী: GROCERY\n",
      "বর্ণালী লাইব্রেরী এন্ড স্টেশনারী: PHARMACY\n",
      "Nasir uddin: GROCERY\n",
      "Zarif medico plus: MFS_MOBILE_RECHARGE\n",
      "ব্যবসায়ী: ELECTRONICS\n",
      "হাসান ভেরাইটিজ ষ্টোর লস্করপুর বাজার কুলাউড়া: GROCERY\n",
      "রাজিয়া মেডিসিন স্টোর: PHARMACY\n",
      "নাইম & নজিম ভ্যারাইটিজ ষ্টোর এন্ড টেলিকম: GROCERY\n",
      "মা টেলি কম: MFS_MOBILE_RECHARGE\n",
      "বেল্লাল নেটওয়ার্ক: PHARMACY\n",
      "দেবাশীষ ষ্টোর: PHARMACY\n",
      "Maa varaities store: MFS_MOBILE_RECHARGE\n",
      "আল আমিন স্টোর: GROCERY\n",
      "ইতি স্টোর: MFS_MOBILE_RECHARGE\n",
      "আলিফ ডিপাটমেন্টাল ষ্টোর: GROCERY\n",
      "PM Telecom: GROCERY\n",
      "নিউ ডালিয়া ক্লথ ষ্টোর এন্ড টেইলার্স: ELECTRONICS\n",
      "মোঃআবু ছালেহ জোমাদ্দার: GROCERY\n",
      "শেখ নাদিম স্টোর সেতুর বাজার আট পাড়া নেত্রকোণা: GROCERY\n",
      "আর এস ষ্টোর: GROCERY\n",
      "জান্নাত ইলেকট্রিক।: PHARMACY\n",
      "Sotota veraytis store: MFS_MOBILE_RECHARGE\n",
      "ডিফারেন্ট কালেকশন: ELECTRONICS\n",
      "Stitch View Fashion: GROCERY\n",
      "Jonopriyo: GROCERY\n",
      "অনন্যা স্টুডিও এন্ড টেলিকম/সুজন: MFS_MOBILE_RECHARGE\n",
      "রাকিব চিকিৎসালয়, ডাঃ মোঃ জহুরুল ইসলাম: PHARMACY\n",
      "মেসার্স উজ্জ্বল ভ্যারাইটিজ ষ্টোর: MFS_MOBILE_RECHARGE\n",
      "মেসার্স নাজমুল ভ্যারাইটিজ স্টোর: GROCERY\n",
      "Sobuj Miha: GROCERY\n",
      "হাসান,টেলিকম শান্তির বাজার হিজলা বরিশাল: MFS_MOBILE_RECHARGE\n",
      "মেসার্স ফারুক স্টোর: PHARMACY\n",
      "হাসান এন্টারপ্রাইজ: MFS_MOBILE_RECHARGE\n",
      "Rakib telecom: GROCERY\n",
      "sabrin confansanary: GROCERY\n",
      "রাকিব মোবাইল ব্যাংকিং ও রিচার্জ পয়েন্ট: GROCERY\n",
      "মুন টেলিকম এন্ড সাভিসিং সেন্টার।: PHARMACY\n",
      "Dr.Hafej morium medical hol: GROCERY\n",
      "Sardar computer and Digital Studio: GROCERY\n",
      "মাসুম টেলিকম: GROCERY\n",
      "ইরতিজা হক স্টোর ডুমদী প‌্রোফাইটর সুমন: PHARMACY\n",
      "mudir: GROCERY\n",
      "আলিম টেলিকম জগতগাতি চার রাস্তা মোড়: MFS_MOBILE_RECHARGE\n",
      "Abdullah Telecom: MFS_MOBILE_RECHARGE\n",
      "নিলয় জেনারেল এন্ড টেলিকম ষ্টোর: GROCERY\n",
      "mozammel medicine center: GROCERY\n",
      "আম্মাজান কনফেকশনারি ফরিদ: GROCERY\n",
      "SIAM MEDICAL HOLL: GROCERY\n",
      "কাজি টেলিকম: MFS_MOBILE_RECHARGE\n",
      "মোস্তফা ষ্টোর ,(মল্লিক বাজার: GROCERY\n",
      "রাজ্জাক ইলেকট্রনিকস: PHARMACY\n",
      "পংকজ স্টোর: MFS_MOBILE_RECHARGE\n",
      "নাঈম এর দোকান: GROCERY\n",
      "আল আমিন মেডিসিন সেন্টার: PHARMACY\n",
      "ডা: আবেদ আলী ফার্মেসী - ডা: মাসুম: GROCERY\n",
      "মোজাদ্দেদীয়া গার্মেন্টস: GROCERY\n",
      "Sheikh Sinbad: PHARMACY\n",
      "পক্ষিয়া মেডিকেল হল: PHARMACY\n",
      "এন জে বুটিকস এন্ড ক্রিয়েশন: GROCERY\n",
      "আলিফ মেডিসিন কর্নার: MFS_MOBILE_RECHARGE\n",
      "বিপ্র ফার্মেসী: PHARMACY\n",
      "\n",
      "[False  True False  True  True False False  True False  True  True  True\n",
      " False False  True False False  True False  True False False  True False\n",
      "  True False False  True False  True False False  True  True False False\n",
      "  True  True  True False False  True False False  True  True  True False\n",
      " False False  True  True False  True False False  True  True  True False\n",
      "  True False False False  True  True False  True False  True False  True\n",
      " False  True False False False False False False  True  True False  True\n",
      " False  True False  True  True False  True  True  True False False False\n",
      "  True False False  True]\n"
     ]
    }
   ],
   "source": [
    "# probabilies against all classes for selective validation data\n",
    "pred_probabilities=model.predict(normalized_x[38000:38100, :])\n",
    "\n",
    "# predictions against selective validation data\n",
    "pred_classes=[categories[item] for item in np.argmax(pred_probabilities, axis=1)]\n",
    "val_shop_names=list(df['shop_name'])[38000:38100]\n",
    "\n",
    "for i in range(0, len(val_shop_names)): \n",
    "  print(val_shop_names[i]+ \": \"+pred_classes[i])\n",
    "\n",
    "print()\n",
    "\n",
    "# if predictions match\n",
    "print(np.argmax(pred_probabilities, axis=1)==y[38000:38100])"
   ]
  },
  {
   "cell_type": "code",
   "execution_count": 10,
   "metadata": {
    "executionInfo": {
     "elapsed": 7,
     "status": "ok",
     "timestamp": 1667191962531,
     "user": {
      "displayName": "Shithi Maitra",
      "userId": "01287562705842979191"
     },
     "user_tz": -360
    },
    "id": "zI5px4zp5lI9"
   },
   "outputs": [],
   "source": []
  }
 ],
 "metadata": {
  "colab": {
   "authorship_tag": "ABX9TyMGy983d8jyU3Yv7zycmGEF",
   "collapsed_sections": [],
   "provenance": []
  },
  "kernelspec": {
   "display_name": "Python 3 (ipykernel)",
   "language": "python",
   "name": "python3"
  },
  "language_info": {
   "codemirror_mode": {
    "name": "ipython",
    "version": 3
   },
   "file_extension": ".py",
   "mimetype": "text/x-python",
   "name": "python",
   "nbconvert_exporter": "python",
   "pygments_lexer": "ipython3",
   "version": "3.11.7"
  }
 },
 "nbformat": 4,
 "nbformat_minor": 4
}
